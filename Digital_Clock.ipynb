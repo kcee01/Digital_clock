{
 "cells": [
  {
   "cell_type": "code",
   "id": "initial_id",
   "metadata": {
    "collapsed": true,
    "ExecuteTime": {
     "end_time": "2025-06-10T06:25:51.315695Z",
     "start_time": "2025-06-10T06:25:20.749448Z"
    }
   },
   "source": [
    "import tkinter as tk\n",
    "from time import strftime\n",
    "\n",
    "root = tk.Tk()\n",
    "root.title(\"Digital Clock\")\n",
    "\n",
    "#Define the clock label\n",
    "clock_label = tk.Label(root, text=\"Digital Clock\",\n",
    "                       font=(\"Arial\", 20, \"bold\"),\n",
    "                       bg=\"white\",\n",
    "                       fg=\"black\",)\n",
    "\n",
    "clock_label.pack(side=tk.TOP, anchor=tk.W, fill=tk.X,\n",
    "                 expand=True, padx=10, pady=10)\n",
    "\n",
    "#Function to update the time\n",
    "def update_time():\n",
    "    current_time = strftime(\"%H:%M:%S\")\n",
    "    clock_label.config(text=current_time)\n",
    "    clock_label.after(1000, update_time)\n",
    "\n",
    "update_time()\n",
    "root.mainloop()\n"
   ],
   "outputs": [],
   "execution_count": 2
  }
 ],
 "metadata": {
  "kernelspec": {
   "display_name": "Python 3",
   "language": "python",
   "name": "python3"
  },
  "language_info": {
   "codemirror_mode": {
    "name": "ipython",
    "version": 2
   },
   "file_extension": ".py",
   "mimetype": "text/x-python",
   "name": "python",
   "nbconvert_exporter": "python",
   "pygments_lexer": "ipython2",
   "version": "2.7.6"
  }
 },
 "nbformat": 4,
 "nbformat_minor": 5
}
